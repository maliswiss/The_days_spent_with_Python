{
  "cells": [
    {
      "cell_type": "markdown",
      "metadata": {
        "id": "oQ_cWqXDw_J9"
      },
      "source": [
        "<p>Given the code below, use the correct code on line 3 in order to return the value associated with key <strong>4</strong>. Do not use a method as a solution for this exercise!</p>"
      ]
    },
    {
      "cell_type": "code",
      "execution_count": 3,
      "metadata": {
        "id": "yyR9-iZ_w_J_",
        "colab": {
          "base_uri": "https://localhost:8080/"
        },
        "outputId": "6f87cbba-8e10-4689-8354-27cdf4defc27"
      },
      "outputs": [
        {
          "output_type": "stream",
          "name": "stdout",
          "text": [
            "Stellar\n"
          ]
        }
      ],
      "source": [
        "crypto = {1: \"Bitcoin\", 2: \"Ethereum\", 3: \"Litecoin\", 4: \"Stellar\", 5: \"XRP\"}\n",
        "\n",
        "value = crypto[4]\n",
        "\n",
        "print(value) # Stellar"
      ]
    },
    {
      "cell_type": "markdown",
      "metadata": {
        "id": "Mn150Irsw_KA"
      },
      "source": [
        "<p>Given the code below, use the correct code on line 3 in order to return the value associated with key <strong>4</strong>. This time, use a method as a solution for this exercise!</p>"
      ]
    },
    {
      "cell_type": "code",
      "execution_count": 7,
      "metadata": {
        "id": "6DoHvFsIw_KA",
        "colab": {
          "base_uri": "https://localhost:8080/"
        },
        "outputId": "b714350f-20a6-4b82-bc9c-a8c5065fa1cb"
      },
      "outputs": [
        {
          "output_type": "stream",
          "name": "stdout",
          "text": [
            "Stellar\n"
          ]
        }
      ],
      "source": [
        "crypto = {1: \"Bitcoin\", 2: \"Ethereum\", 3: \"Litecoin\", 4: \"Stellar\", 5: \"XRP\"}\n",
        "\n",
        "value = crypto.get(4)\n",
        "\n",
        "print(value) # Stellar"
      ]
    },
    {
      "cell_type": "markdown",
      "metadata": {
        "id": "xAs5mLkuw_KB"
      },
      "source": [
        "<p>Given the code below, use the correct code on line 3 in order to update the value associated with key <strong>4</strong> to <strong>\"Cardano\"</strong>.</p>"
      ]
    },
    {
      "cell_type": "code",
      "execution_count": 12,
      "metadata": {
        "id": "FZpD009Nw_KB",
        "colab": {
          "base_uri": "https://localhost:8080/"
        },
        "outputId": "1ee65d2d-cbe5-4eb4-f56a-536e2d62301c"
      },
      "outputs": [
        {
          "output_type": "stream",
          "name": "stdout",
          "text": [
            "Cardano\n"
          ]
        }
      ],
      "source": [
        "crypto = {1: \"Bitcoin\", 2: \"Ethereum\", 3: \"Litecoin\", 4: \"Stellar\", 5: \"XRP\"}\n",
        "\n",
        "crypto[4] = 'Cardano'\n",
        "\n",
        "crypto.update({4: 'Cardano'}) # ikinci yontem\n",
        "\n",
        "print(crypto[4]) # Cardano"
      ]
    },
    {
      "cell_type": "markdown",
      "metadata": {
        "id": "gSUvTy6-w_KC"
      },
      "source": [
        "<p>Given the code below, use the correct code on line 3 in order to add a new key-value pair to the dictionary: <strong>6: \"Monero\"</strong></p>"
      ]
    },
    {
      "cell_type": "code",
      "execution_count": 14,
      "metadata": {
        "id": "VOLl8u_Ow_KC",
        "colab": {
          "base_uri": "https://localhost:8080/"
        },
        "outputId": "2bbed880-cb40-422f-994f-efcf9dc9202f"
      },
      "outputs": [
        {
          "output_type": "stream",
          "name": "stdout",
          "text": [
            "Monero\n"
          ]
        }
      ],
      "source": [
        "crypto = {1: \"Bitcoin\", 2: \"Ethereum\", 3: \"Litecoin\", 4: \"Stellar\", 5: \"XRP\"}\n",
        "\n",
        "crypto[6] = 'Monero'\n",
        "\n",
        "crypto.update({6: 'Monero'}) # ikinci yontem\n",
        "\n",
        "print(crypto[6]) # Monero"
      ]
    },
    {
      "cell_type": "markdown",
      "metadata": {
        "id": "SaJm6zTrw_KC"
      },
      "source": [
        "<p>Given the code below, use the correct code on line 3 in order to return the number of key-value pairs in the dictionary.</p>"
      ]
    },
    {
      "cell_type": "code",
      "execution_count": 15,
      "metadata": {
        "id": "nl6wsOcvw_KD",
        "colab": {
          "base_uri": "https://localhost:8080/"
        },
        "outputId": "0e94427b-0662-4242-9c40-1cef186e3c12"
      },
      "outputs": [
        {
          "output_type": "stream",
          "name": "stdout",
          "text": [
            "5\n"
          ]
        }
      ],
      "source": [
        "crypto = {1: \"Bitcoin\", 2: \"Ethereum\", 3: \"Litecoin\", 4: \"Stellar\", 5: \"XRP\"}\n",
        "\n",
        "number = len(crypto)\n",
        "\n",
        "print(number)"
      ]
    },
    {
      "cell_type": "markdown",
      "metadata": {
        "id": "95KPvrvww_KD"
      },
      "source": [
        "<p>Given the code below, use the correct code on line 3 in order to delete the key-value pair associated with key <strong>3</strong>. Do not use a method as a solution for this exercise!</p>"
      ]
    },
    {
      "cell_type": "code",
      "execution_count": 16,
      "metadata": {
        "id": "8sUqCyPIw_KD",
        "colab": {
          "base_uri": "https://localhost:8080/"
        },
        "outputId": "94cb0023-9b7a-4526-bc59-7be6fcae0c48"
      },
      "outputs": [
        {
          "output_type": "stream",
          "name": "stdout",
          "text": [
            "{1: 'Bitcoin', 2: 'Ethereum', 4: 'Stellar', 5: 'XRP'}\n"
          ]
        }
      ],
      "source": [
        "crypto = {1: \"Bitcoin\", 2: \"Ethereum\", 3: \"Litecoin\", 4: \"Stellar\", 5: \"XRP\"}\n",
        "\n",
        "del crypto[3]\n",
        "\n",
        "print(crypto)"
      ]
    },
    {
      "cell_type": "markdown",
      "metadata": {
        "id": "KW14Z5wCw_KE"
      },
      "source": [
        "<p>Given the code below, use the correct code on line 3 in order to delete the key-value pair associated with key <strong>3</strong>. This time, use a method as a solution for this exercise!</p>"
      ]
    },
    {
      "cell_type": "code",
      "execution_count": 17,
      "metadata": {
        "id": "idlf2nkZw_KE",
        "colab": {
          "base_uri": "https://localhost:8080/"
        },
        "outputId": "4efb200e-73e3-442e-fac0-b7e3bf16d50a"
      },
      "outputs": [
        {
          "output_type": "stream",
          "name": "stdout",
          "text": [
            "{1: 'Bitcoin', 2: 'Ethereum', 4: 'Stellar', 5: 'XRP'}\n"
          ]
        }
      ],
      "source": [
        "crypto = {1: \"Bitcoin\", 2: \"Ethereum\", 3: \"Litecoin\", 4: \"Stellar\", 5: \"XRP\"}\n",
        "\n",
        "crypto.pop(3)\n",
        "\n",
        "print(crypto)"
      ]
    },
    {
      "cell_type": "markdown",
      "metadata": {
        "id": "6r0EhusIw_KE"
      },
      "source": [
        "<p>Given the code below, use the correct code on line 3 in order to verify that <strong>7 </strong>is <strong>not </strong>a key in the dictionary.</p>"
      ]
    },
    {
      "cell_type": "code",
      "execution_count": 20,
      "metadata": {
        "id": "ZsFNdjOIw_KE",
        "colab": {
          "base_uri": "https://localhost:8080/"
        },
        "outputId": "53496112-2503-4108-fa86-e9621b954aef"
      },
      "outputs": [
        {
          "output_type": "stream",
          "name": "stdout",
          "text": [
            "False\n",
            "not found\n"
          ]
        }
      ],
      "source": [
        "crypto = {1: \"Bitcoin\", 2: \"Ethereum\", 3: \"Litecoin\", 4: \"Stellar\", 5: \"XRP\"}\n",
        "\n",
        "check = 7 in crypto\n",
        "\n",
        "check2 = crypto.get(7, 'not found')\n",
        "\n",
        "print(check)\n",
        "print(check2)"
      ]
    },
    {
      "cell_type": "markdown",
      "metadata": {
        "id": "aG4x3evTw_KF"
      },
      "source": [
        "<p>Given the code below, use the correct method on line 3 in order to delete all the elements in the dictionary.</p>"
      ]
    },
    {
      "cell_type": "code",
      "execution_count": 23,
      "metadata": {
        "id": "FDUC223uw_KF",
        "colab": {
          "base_uri": "https://localhost:8080/"
        },
        "outputId": "73c27b5a-a47a-4dae-b7fd-cfa41d5b9630"
      },
      "outputs": [
        {
          "output_type": "stream",
          "name": "stdout",
          "text": [
            "{}\n"
          ]
        }
      ],
      "source": [
        "crypto = {1: \"Bitcoin\", 2: \"Ethereum\", 3: \"Litecoin\", 4: \"Stellar\", 5: \"XRP\"}\n",
        "\n",
        "crypto.clear()\n",
        "# del crypto => degiskeni komple ram'den siler.\n",
        "\n",
        "print(crypto)"
      ]
    },
    {
      "cell_type": "markdown",
      "metadata": {
        "id": "C9X4kO0iw_KF"
      },
      "source": [
        "<p>Given the code below, use the correct code on line 3 in order to get a list of tuples, where each tuple represents a key-value pair in the dictionary.</p>"
      ]
    },
    {
      "cell_type": "code",
      "execution_count": 33,
      "metadata": {
        "id": "TNd8YLtyw_KF",
        "colab": {
          "base_uri": "https://localhost:8080/"
        },
        "outputId": "93a907ad-7368-4a18-9d62-0ab49e455f72"
      },
      "outputs": [
        {
          "output_type": "stream",
          "name": "stdout",
          "text": [
            "[(1, 'Bitcoin'), (2, 'Ethereum'), (3, 'Litecoin'), (4, 'Stellar'), (5, 'XRP')]\n"
          ]
        }
      ],
      "source": [
        "crypto = {1: \"Bitcoin\", 2: \"Ethereum\", 3: \"Litecoin\", 4: \"Stellar\", 5: \"XRP\"}\n",
        "\n",
        "result = list(crypto.items())\n",
        "\n",
        "print(result)"
      ]
    },
    {
      "cell_type": "markdown",
      "metadata": {
        "id": "Qd6hwwq1w_KG"
      },
      "source": [
        "<p>Given the code below, use the correct function on line 3 in order to get the sum of all the keys in the dictionary.</p>"
      ]
    },
    {
      "cell_type": "code",
      "execution_count": 35,
      "metadata": {
        "id": "-qpgFbklw_KG",
        "colab": {
          "base_uri": "https://localhost:8080/"
        },
        "outputId": "61e200c4-5ef9-466e-a1d1-9fb36976ca70"
      },
      "outputs": [
        {
          "output_type": "stream",
          "name": "stdout",
          "text": [
            "15\n"
          ]
        }
      ],
      "source": [
        "crypto = {1: \"Bitcoin\", 2: \"Ethereum\", 3: \"Litecoin\", 4: \"Stellar\", 5: \"XRP\"}\n",
        "\n",
        "add = sum(crypto.keys()) # sum(crypto) seklinde de yapilabilir\n",
        "\n",
        "print(add)"
      ]
    },
    {
      "cell_type": "markdown",
      "metadata": {
        "id": "NoK9FvXEw_KG"
      },
      "source": [
        "<p>Given the code below, use the correct method on line 3 in order to get a list of all the values in the dictionary.</p>"
      ]
    },
    {
      "cell_type": "code",
      "execution_count": 36,
      "metadata": {
        "id": "dr0WKrSQw_KG",
        "colab": {
          "base_uri": "https://localhost:8080/"
        },
        "outputId": "f7bb87ae-138a-457c-fb18-5ec9e9741944"
      },
      "outputs": [
        {
          "output_type": "stream",
          "name": "stdout",
          "text": [
            "['Bitcoin', 'Ethereum', 'Litecoin', 'Stellar', 'XRP']\n"
          ]
        }
      ],
      "source": [
        "crypto = {1: \"Bitcoin\", 2: \"Ethereum\", 3: \"Litecoin\", 4: \"Stellar\", 5: \"XRP\"}\n",
        "\n",
        "val = crypto.values()\n",
        "\n",
        "print(list(val))"
      ]
    },
    {
      "cell_type": "markdown",
      "metadata": {
        "id": "_l81JH7-w_KG"
      },
      "source": [
        "<p>Given the code below, use the correct function on line 3 in order to get the smallest key in the dictionary.</p>"
      ]
    },
    {
      "cell_type": "code",
      "execution_count": 37,
      "metadata": {
        "id": "2sdi0gKPw_KH",
        "colab": {
          "base_uri": "https://localhost:8080/"
        },
        "outputId": "5e54ec7c-2853-4306-ad19-f3274fec67f7"
      },
      "outputs": [
        {
          "output_type": "stream",
          "name": "stdout",
          "text": [
            "1\n"
          ]
        }
      ],
      "source": [
        "crypto = {1: \"Bitcoin\", 2: \"Ethereum\", 3: \"Litecoin\", 4: \"Stellar\", 5: \"XRP\"}\n",
        "\n",
        "key = min(crypto)\n",
        "\n",
        "print(key)"
      ]
    },
    {
      "cell_type": "markdown",
      "metadata": {
        "id": "D80Xb3Rbw_KH"
      },
      "source": [
        "<p>Given the code below, use the correct method on line 3 in order to get a list of all the keys in the dictionary.</p>"
      ]
    },
    {
      "cell_type": "code",
      "execution_count": 39,
      "metadata": {
        "id": "6ApOh9Rsw_KH",
        "colab": {
          "base_uri": "https://localhost:8080/"
        },
        "outputId": "7ff2a02a-d822-459a-9704-c8c32cee8d99"
      },
      "outputs": [
        {
          "output_type": "stream",
          "name": "stdout",
          "text": [
            "[1, 2, 3, 4, 5]\n"
          ]
        }
      ],
      "source": [
        "crypto = {1: \"Bitcoin\", 2: \"Ethereum\", 3: \"Litecoin\", 4: \"Stellar\", 5: \"XRP\"}\n",
        "\n",
        "keys = crypto.keys() # keys = crypto => seklinde yapilabilir\n",
        "\n",
        "print(list(keys))"
      ]
    },
    {
      "cell_type": "markdown",
      "metadata": {
        "id": "WpuGn81Bw_KH"
      },
      "source": [
        "<p>Given the code below, use the correct method on line 3 in order to return and remove an arbitrary key-value pair from the dictionary.</p>"
      ]
    },
    {
      "cell_type": "code",
      "execution_count": 41,
      "metadata": {
        "id": "QzbzQpfkw_KH",
        "colab": {
          "base_uri": "https://localhost:8080/"
        },
        "outputId": "de1b7201-b8c8-4b4c-b404-89998f3747a7"
      },
      "outputs": [
        {
          "output_type": "stream",
          "name": "stdout",
          "text": [
            "4\n",
            "{1: 'Bitcoin', 2: 'Ethereum', 3: 'Litecoin', 4: 'Stellar'}\n"
          ]
        }
      ],
      "source": [
        "crypto = {1: \"Bitcoin\", 2: \"Ethereum\", 3: \"Litecoin\", 4: \"Stellar\", 5: \"XRP\"}\n",
        "\n",
        "crypto.popitem()\n",
        "\n",
        "print(len(crypto))\n",
        "print(crypto)"
      ]
    },
    {
      "cell_type": "markdown",
      "metadata": {
        "id": "mwxQsynHw_KI"
      },
      "source": []
    }
  ],
  "metadata": {
    "interpreter": {
      "hash": "468f25ad0239460415b7e6b7483d5c8f7213894121f6fb96c4cb6ef93fffe534"
    },
    "kernelspec": {
      "display_name": "Python 3.9.6 64-bit",
      "language": "python",
      "name": "python3"
    },
    "language_info": {
      "codemirror_mode": {
        "name": "ipython",
        "version": 3
      },
      "file_extension": ".py",
      "mimetype": "text/x-python",
      "name": "python",
      "nbconvert_exporter": "python",
      "pygments_lexer": "ipython3",
      "version": "3.9.6"
    },
    "orig_nbformat": 4,
    "colab": {
      "provenance": []
    }
  },
  "nbformat": 4,
  "nbformat_minor": 0
}