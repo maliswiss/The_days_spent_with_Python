{
  "cells": [
    {
      "cell_type": "markdown",
      "metadata": {
        "id": "gEpPEAC2zeBE"
      },
      "source": [
        "<p>Write a <strong>for </strong>loop that iterates over the <strong>x </strong>list and prints out all the elements of the list.</p>"
      ]
    },
    {
      "cell_type": "code",
      "execution_count": null,
      "metadata": {
        "colab": {
          "base_uri": "https://localhost:8080/"
        },
        "id": "cH6QvBMxzeBK",
        "outputId": "6d99e962-4d4d-4ec8-c342-af20c38f1d79"
      },
      "outputs": [
        {
          "output_type": "stream",
          "name": "stdout",
          "text": [
            "10\n",
            "12\n",
            "13\n",
            "14\n",
            "17\n",
            "19\n",
            "21\n",
            "22\n",
            "25\n"
          ]
        }
      ],
      "source": [
        "x = [10, 12, 13, 14, 17, 19, 21, 22, 25]\n",
        "\n",
        "for i in x:\n",
        "  print(i)"
      ]
    },
    {
      "cell_type": "markdown",
      "metadata": {
        "id": "kJjcGoy1zeBN"
      },
      "source": [
        "<p>Write a <strong>for </strong>loop that iterates over the <strong>x </strong>list and prints out the remainders of each element of the list divided by 3.</p>"
      ]
    },
    {
      "cell_type": "code",
      "execution_count": null,
      "metadata": {
        "colab": {
          "base_uri": "https://localhost:8080/"
        },
        "id": "NoVJTe1wzeBO",
        "outputId": "ef88c5bd-792d-403e-a04a-8c80957e1b53"
      },
      "outputs": [
        {
          "output_type": "stream",
          "name": "stdout",
          "text": [
            "1\n",
            "0\n",
            "1\n",
            "2\n",
            "2\n",
            "1\n",
            "0\n",
            "1\n",
            "1\n"
          ]
        }
      ],
      "source": [
        "x = [10, 12, 13, 14, 17, 19, 21, 22, 25]\n",
        "\n",
        "for i in x:\n",
        "  print(i % 3 )"
      ]
    },
    {
      "cell_type": "markdown",
      "metadata": {
        "id": "P5Vh90fSzeBP"
      },
      "source": [
        "<p>Write a <strong>for </strong>loop that iterates over the <strong>x </strong>list and prints out all the elements of the list in reversed order and multiplied by 10.</p>"
      ]
    },
    {
      "cell_type": "code",
      "execution_count": null,
      "metadata": {
        "colab": {
          "base_uri": "https://localhost:8080/"
        },
        "id": "K1yjmgskzeBQ",
        "outputId": "99b74d38-29d8-4679-906c-782ff4e18c41"
      },
      "outputs": [
        {
          "output_type": "stream",
          "name": "stdout",
          "text": [
            "250\n",
            "220\n",
            "210\n",
            "190\n",
            "170\n",
            "140\n",
            "130\n",
            "120\n",
            "100\n"
          ]
        }
      ],
      "source": [
        "x = [10, 12, 13, 14, 17, 19, 21, 22, 25]\n",
        "x.reverse()\n",
        "\n",
        "for i in x:\n",
        "  print(i * 10)"
      ]
    },
    {
      "cell_type": "code",
      "source": [
        "x = [10, 12, 13, 14, 17, 19, 21, 22, 25]\n",
        "for i in sorted(x, reverse = True):\n",
        "  print(i * 10)"
      ],
      "metadata": {
        "colab": {
          "base_uri": "https://localhost:8080/"
        },
        "id": "IQEtMY0Z3e8d",
        "outputId": "ea5ac48b-97b9-4bc0-d3e0-bfeaa6b0de90"
      },
      "execution_count": null,
      "outputs": [
        {
          "output_type": "stream",
          "name": "stdout",
          "text": [
            "250\n",
            "220\n",
            "210\n",
            "190\n",
            "170\n",
            "140\n",
            "130\n",
            "120\n",
            "100\n"
          ]
        }
      ]
    },
    {
      "cell_type": "markdown",
      "metadata": {
        "id": "GTfcshhnzeBR"
      },
      "source": [
        "<p>Write a <strong>for </strong>loop that iterates over the <strong>x </strong>list and prints out all the elements of the list divided by 2 and the string<strong> Great job! </strong>after the list is exhausted.</p>"
      ]
    },
    {
      "cell_type": "markdown",
      "source": [],
      "metadata": {
        "id": "jjG_UP-W34Dm"
      }
    },
    {
      "cell_type": "code",
      "execution_count": null,
      "metadata": {
        "colab": {
          "base_uri": "https://localhost:8080/"
        },
        "id": "i8PRS38ezeBR",
        "outputId": "91bca82b-f08c-472f-df0c-586dbb8b65b3"
      },
      "outputs": [
        {
          "output_type": "stream",
          "name": "stdout",
          "text": [
            "5.0\n",
            "6.0\n",
            "6.5\n",
            "7.0\n",
            "8.5\n",
            "9.5\n",
            "10.5\n",
            "11.0\n",
            "12.5\n",
            "Great Job\n"
          ]
        }
      ],
      "source": [
        "x = [10, 12, 13, 14, 17, 19, 21, 22, 25]\n",
        "\n",
        "for i in x:\n",
        "  print(i / 2)\n",
        "else:\n",
        "  print(\"Great Job\")"
      ]
    },
    {
      "cell_type": "markdown",
      "metadata": {
        "id": "4L60Il0jzeBS"
      },
      "source": [
        "<p>Write a <strong>for </strong>loop that iterates over the <strong>x </strong>list and prints out the index of each element.</p>"
      ]
    },
    {
      "cell_type": "code",
      "execution_count": null,
      "metadata": {
        "colab": {
          "base_uri": "https://localhost:8080/"
        },
        "id": "jgTn-WVzzeBT",
        "outputId": "ed5b2009-a449-4fb0-ad3f-fac137122ae1"
      },
      "outputs": [
        {
          "output_type": "stream",
          "name": "stdout",
          "text": [
            "10 elemanın indexi 0\n",
            "12 elemanın indexi 1\n",
            "13 elemanın indexi 2\n",
            "14 elemanın indexi 3\n",
            "17 elemanın indexi 4\n",
            "19 elemanın indexi 5\n",
            "21 elemanın indexi 6\n",
            "22 elemanın indexi 7\n",
            "25 elemanın indexi 8\n"
          ]
        }
      ],
      "source": [
        "x = [10, 12, 13, 14, 17, 19, 21, 22, 25]\n",
        "\n",
        "for i in x:\n",
        "  print(f\"{i} elemanın indexi {x.index(i)}\")\n",
        "\n"
      ]
    },
    {
      "cell_type": "markdown",
      "metadata": {
        "id": "c9mbHpHQzeBT"
      },
      "source": [
        "<p>Write a <strong>while </strong>loop that prints out the value of <strong>x </strong>squared while <strong>x </strong>is less than or equal to 5. Be careful not to end up with an infinite loop!</p>"
      ]
    },
    {
      "cell_type": "code",
      "execution_count": null,
      "metadata": {
        "colab": {
          "base_uri": "https://localhost:8080/"
        },
        "id": "0jyK28IezeBU",
        "outputId": "8dbec256-cf0b-4523-da30-fe2c8fe9ca8f"
      },
      "outputs": [
        {
          "output_type": "stream",
          "name": "stdout",
          "text": [
            "0\n",
            "1\n",
            "4\n",
            "9\n",
            "16\n",
            "25\n"
          ]
        }
      ],
      "source": [
        "x = 0\n",
        "while x <= 5 :\n",
        "  print(x**2)\n",
        "  x += 1"
      ]
    },
    {
      "cell_type": "markdown",
      "metadata": {
        "id": "gEx2ZniWzeBV"
      },
      "source": [
        "<p>Write a <strong>while </strong>loop that prints out the value of <strong>x </strong>times 10 while <strong>x </strong>is less than or equal to 4 and then prints out <strong>Done!</strong> when <strong>x </strong>becomes larger than 4. Be careful not to end up with an infinite loop!</p>"
      ]
    },
    {
      "cell_type": "code",
      "execution_count": null,
      "metadata": {
        "colab": {
          "base_uri": "https://localhost:8080/"
        },
        "id": "yJGzfRaIzeBW",
        "outputId": "90395a52-909d-468c-fd82-dda161fbc87a"
      },
      "outputs": [
        {
          "output_type": "stream",
          "name": "stdout",
          "text": [
            "0\n",
            "10\n",
            "20\n",
            "30\n",
            "40\n",
            "done\n"
          ]
        }
      ],
      "source": [
        "x = 0\n",
        "while x <= 4:\n",
        "  print(x * 10)\n",
        "  x += 1\n",
        "else:\n",
        "  print(\"done\")\n",
        "\n"
      ]
    },
    {
      "cell_type": "code",
      "source": [
        "x = 0\n",
        "while x <= 4:\n",
        "  print(x * 10)\n",
        "  x += 1\n",
        "print(\"done\")"
      ],
      "metadata": {
        "colab": {
          "base_uri": "https://localhost:8080/"
        },
        "id": "K6Hp-zWy6h40",
        "outputId": "a63fd2ec-d5cc-4869-a1a8-a141f6170fe0"
      },
      "execution_count": null,
      "outputs": [
        {
          "output_type": "stream",
          "name": "stdout",
          "text": [
            "0\n",
            "10\n",
            "20\n",
            "30\n",
            "40\n",
            "done\n"
          ]
        }
      ]
    },
    {
      "cell_type": "markdown",
      "metadata": {
        "id": "IxYp_n0-zeBW"
      },
      "source": [
        "<p>Write a <strong>while </strong>loop that prints out the value of <strong>x </strong>plus 10 while <strong>x </strong>is less than or equal to 15 and the remainder of <strong>x </strong>divided by 5 is 0. Be careful not to end up with an infinite loop!</p>"
      ]
    },
    {
      "cell_type": "code",
      "execution_count": null,
      "metadata": {
        "colab": {
          "base_uri": "https://localhost:8080/"
        },
        "id": "yMlhwEIhzeBX",
        "outputId": "1b1f483a-2786-40c4-fbda-ce2240391ca1"
      },
      "outputs": [
        {
          "output_type": "stream",
          "name": "stdout",
          "text": [
            "20\n"
          ]
        }
      ],
      "source": [
        "x = 10\n",
        "\n",
        "while x <= 15 and x % 5 == 0:\n",
        "  print(x + 10)\n",
        "  x += 1\n",
        "\n",
        "\n"
      ]
    },
    {
      "cell_type": "markdown",
      "metadata": {
        "id": "0uJm_dAazeBX"
      },
      "source": [
        "<p>Write a <strong>while </strong>loop that prints out the absolute value of <strong>x </strong>while <strong>x </strong>is negative. Be careful not to end up with an infinite loop!</p>"
      ]
    },
    {
      "cell_type": "code",
      "execution_count": null,
      "metadata": {
        "colab": {
          "base_uri": "https://localhost:8080/"
        },
        "id": "mRFxhJFxzeBY",
        "outputId": "31fa8f7b-f20e-4c33-f5db-f78cd116a535"
      },
      "outputs": [
        {
          "output_type": "stream",
          "name": "stdout",
          "text": [
            "7\n",
            "6\n",
            "5\n",
            "4\n",
            "3\n",
            "2\n",
            "1\n"
          ]
        }
      ],
      "source": [
        "x = -7\n",
        "\n",
        "while x<0:\n",
        "  print(abs(x))\n",
        "  x += 1\n",
        "\n",
        "\n"
      ]
    },
    {
      "cell_type": "markdown",
      "metadata": {
        "id": "sd79uRVgzeBY"
      },
      "source": [
        "<p>Write a <strong>while </strong>loop that prints out the value of <strong>x </strong>times <strong>y </strong>while <strong>x </strong>is greater than or equal to 5 and less than 10, and prints out the result of <strong>x </strong>divided by <strong>y </strong>when <strong>x </strong>becomes 10. Be careful not to end up with an infinite loop!</p>"
      ]
    },
    {
      "cell_type": "code",
      "execution_count": null,
      "metadata": {
        "colab": {
          "base_uri": "https://localhost:8080/"
        },
        "id": "Rt8WAgdPzeBZ",
        "outputId": "4b5ad317-7c05-4a7a-8acf-0bc17a50a822"
      },
      "outputs": [
        {
          "output_type": "stream",
          "name": "stdout",
          "text": [
            "10\n",
            "12\n",
            "14\n",
            "16\n",
            "18\n",
            "5.0\n"
          ]
        }
      ],
      "source": [
        "x = 5\n",
        "y = 2\n",
        "\n",
        "while x >= 5 and x < 10:\n",
        "  print(x * y)\n",
        "  x += 1\n",
        "else:\n",
        "  print(x / y)\n",
        "\n"
      ]
    },
    {
      "cell_type": "markdown",
      "metadata": {
        "id": "N2GrQKeezeBa"
      },
      "source": [
        "<p>Write code that will iterate over the <strong>x </strong>list and multiply by 10 only the elements that are greater than 20 and print them out to the screen.</p>\n",
        "<p><em>Hint: use nesting!</em></p>"
      ]
    },
    {
      "cell_type": "code",
      "execution_count": null,
      "metadata": {
        "colab": {
          "base_uri": "https://localhost:8080/"
        },
        "id": "iTP8U2TOzeBa",
        "outputId": "ebdc99cb-0d12-4413-a874-d6caa6db1084"
      },
      "outputs": [
        {
          "output_type": "stream",
          "name": "stdout",
          "text": [
            "210\n",
            "220\n",
            "250\n"
          ]
        }
      ],
      "source": [
        "x = [10, 12, 13, 14, 17, 19, 21, 22, 25]\n",
        "\n",
        "for i in x:\n",
        "  if i > 20:\n",
        "    print(i * 10)"
      ]
    },
    {
      "cell_type": "code",
      "source": [
        "\n",
        "print([i * 10 for i in x if i > 20])  # tek satır çözümü"
      ],
      "metadata": {
        "colab": {
          "base_uri": "https://localhost:8080/"
        },
        "id": "TNrCKExk9Uuo",
        "outputId": "e79c0fb2-ccdc-45e2-ebd5-7163c2baa1ba"
      },
      "execution_count": null,
      "outputs": [
        {
          "output_type": "stream",
          "name": "stdout",
          "text": [
            "210 220 250\n"
          ]
        }
      ]
    },
    {
      "cell_type": "markdown",
      "metadata": {
        "id": "M4WcgTxRzeBb"
      },
      "source": [
        "<p>Write code that will iterate over the <strong>x </strong>and <strong>y </strong>lists and multiply each element of <strong>x </strong>with each element of <strong>y</strong>, also printing the results to the screen.</p>\n",
        "<p><em>Hint: use nesting!</em></p>"
      ]
    },
    {
      "cell_type": "code",
      "execution_count": null,
      "metadata": {
        "colab": {
          "base_uri": "https://localhost:8080/"
        },
        "id": "WlgTcBh0zeBb",
        "outputId": "19026ed0-ba05-4ecb-a960-f80428d6fc4a"
      },
      "outputs": [
        {
          "output_type": "stream",
          "name": "stdout",
          "text": [
            "10\n",
            "20\n",
            "20\n",
            "40\n",
            "30\n",
            "60\n"
          ]
        }
      ],
      "source": [
        "x = [2, 4, 6]\n",
        "y = [5, 10]\n",
        "\n",
        "for i in x:\n",
        "  for j in y:\n",
        "    print(i * j)\n",
        "\n"
      ]
    },
    {
      "cell_type": "code",
      "source": [
        "x = [2, 4, 6]\n",
        "y = [5, 10]\n",
        "\n",
        "print([i * j for i in x for j in y])  # Tek satır çözümü"
      ],
      "metadata": {
        "colab": {
          "base_uri": "https://localhost:8080/"
        },
        "id": "uUk5jwwT-Dfs",
        "outputId": "6dd9935e-8f05-4320-e9a6-4a30b00aa3f0"
      },
      "execution_count": null,
      "outputs": [
        {
          "output_type": "stream",
          "name": "stdout",
          "text": [
            "[10, 20, 20, 40, 30, 60]\n"
          ]
        }
      ]
    },
    {
      "cell_type": "markdown",
      "metadata": {
        "id": "NPr6iS_kzeBc"
      },
      "source": [
        "<p>Write code that will iterate over the <strong>x </strong>and <strong>y </strong>lists and multiply each element of <strong>x </strong>with each element of <strong>y </strong>that is less than 12, also printing the results to the screen.</p>\n",
        "<p><em>Hint: use nesting!</em></p>"
      ]
    },
    {
      "cell_type": "code",
      "execution_count": null,
      "metadata": {
        "colab": {
          "base_uri": "https://localhost:8080/"
        },
        "id": "cHTnXDkUzeBd",
        "outputId": "dca22234-e20d-43cb-fe87-bb3db66c4383"
      },
      "outputs": [
        {
          "output_type": "stream",
          "name": "stdout",
          "text": [
            "10\n",
            "20\n",
            "20\n",
            "40\n",
            "30\n",
            "60\n",
            "40\n",
            "80\n"
          ]
        }
      ],
      "source": [
        "x = [2, 4, 6, 8]\n",
        "y = [5, 10, 15, 20]\n",
        "\n",
        "for i in x:\n",
        "  for j in y:\n",
        "    if j < 12:\n",
        "      print(i * j)"
      ]
    },
    {
      "cell_type": "markdown",
      "metadata": {
        "id": "dTPp9_ZlzeBd"
      },
      "source": [
        "<p>Write code that will iterate over the <strong>x </strong>and <strong>y </strong>lists and multiply each element of <strong>x </strong>that is greater than 5<strong> </strong>with each element of <strong>y </strong>that is less than 12, also printing the results to the screen.</p>"
      ]
    },
    {
      "cell_type": "code",
      "execution_count": null,
      "metadata": {
        "colab": {
          "base_uri": "https://localhost:8080/"
        },
        "id": "PnEAZUjWzeBd",
        "outputId": "92a0a2c6-34eb-4902-f16f-3f26dd255554"
      },
      "outputs": [
        {
          "output_type": "stream",
          "name": "stdout",
          "text": [
            "30\n",
            "60\n",
            "40\n",
            "80\n"
          ]
        }
      ],
      "source": [
        "x = [2, 4, 6, 8]\n",
        "y = [5, 10, 15, 20]\n",
        "\n",
        "for i in x:\n",
        "  for j in y:\n",
        "    if (i > 5) & (j < 12):\n",
        "      print(i * j)"
      ]
    },
    {
      "cell_type": "code",
      "source": [
        "# 2.çözüm\n",
        "x = [2, 4, 6, 8]\n",
        "y = [5, 10, 15, 20]\n",
        "for i in x:\n",
        "  for j in y:\n",
        "    if i > 5 and j < 12:\n",
        "      print(i * j)"
      ],
      "metadata": {
        "colab": {
          "base_uri": "https://localhost:8080/"
        },
        "id": "Q7T1dZzK_j7E",
        "outputId": "dcce6882-e7e2-4c19-cd1f-baca84bda1b1"
      },
      "execution_count": null,
      "outputs": [
        {
          "output_type": "stream",
          "name": "stdout",
          "text": [
            "30\n",
            "60\n",
            "40\n",
            "80\n"
          ]
        }
      ]
    },
    {
      "cell_type": "markdown",
      "metadata": {
        "id": "i2pgt8LkzeBe"
      },
      "source": [
        "<p>Write code that will iterate over the <strong>x </strong>and <strong>y </strong>lists and multiply each element of <strong>x </strong>with each element of <strong>y </strong>that is less than or equal to 10, also printing the results to the screen. For <strong>y</strong>'s elements that are greater than 10, multiply each element of <strong>x </strong>with <strong>y </strong>squared.</p>"
      ]
    },
    {
      "cell_type": "code",
      "execution_count": null,
      "metadata": {
        "colab": {
          "base_uri": "https://localhost:8080/"
        },
        "id": "-ZA4eZ3hzeBf",
        "outputId": "78630cc3-d509-45c6-aa87-28852a6d43a6"
      },
      "outputs": [
        {
          "output_type": "stream",
          "name": "stdout",
          "text": [
            "10\n",
            "20\n",
            "450\n",
            "800\n",
            "20\n",
            "40\n",
            "900\n",
            "1600\n",
            "30\n",
            "60\n",
            "1350\n",
            "2400\n",
            "40\n",
            "80\n",
            "1800\n",
            "3200\n"
          ]
        }
      ],
      "source": [
        "x = [2, 4, 6, 8]\n",
        "y = [5, 10, 15, 20]\n",
        "\n",
        "for i in x:\n",
        "  for j in y:\n",
        "    if j <= 10:\n",
        "      print(i * j)\n",
        "    else:\n",
        "      print(i * j ** 2)  # işlem önceliği ** işleminde olduğundan paranteze almaya gerek yok.\n",
        "\n"
      ]
    },
    {
      "cell_type": "markdown",
      "metadata": {
        "id": "fdnlOBtLzeBf"
      },
      "source": [
        "<p>Write code that will print out each character in <strong>x </strong>doubled if that character is also inside <strong>y</strong>.</p>"
      ]
    },
    {
      "cell_type": "code",
      "execution_count": null,
      "metadata": {
        "colab": {
          "base_uri": "https://localhost:8080/"
        },
        "id": "ui9Z8C5XzeBg",
        "outputId": "d58b0e68-21a5-4745-e7ff-baf47512d71f"
      },
      "outputs": [
        {
          "output_type": "stream",
          "name": "stdout",
          "text": [
            "cc\n",
            "oo\n",
            "cc\n",
            "nn\n",
            "cc\n"
          ]
        }
      ],
      "source": [
        "x = \"cryptocurrency\"\n",
        "y = \"blockchain\"\n",
        "\n",
        "for i in x:\n",
        "  if i in y :\n",
        "    print(i * 2)\n",
        "\n",
        "\n"
      ]
    },
    {
      "cell_type": "markdown",
      "metadata": {
        "id": "J9hUMXXmzeBg"
      },
      "source": [
        "<p>Write code that will iterate over the range generated by <strong>range(9)</strong> and for each element that is between 3 and 7 inclusively print out the result of multiplying that element by the second element in the same range.</p>"
      ]
    },
    {
      "cell_type": "code",
      "execution_count": null,
      "metadata": {
        "colab": {
          "base_uri": "https://localhost:8080/"
        },
        "id": "Iaych1zKzeBh",
        "outputId": "a03dcd4b-d015-4fd4-a5ac-092d7faf9cc8"
      },
      "outputs": [
        {
          "output_type": "stream",
          "name": "stdout",
          "text": [
            "3\n",
            "4\n",
            "5\n",
            "6\n"
          ]
        }
      ],
      "source": [
        "my_range = range(9)\n",
        "\n",
        "for i in my_range:\n",
        "  if 3 <= i < 7:\n",
        "    print(i * my_range[1])"
      ]
    },
    {
      "cell_type": "markdown",
      "metadata": {
        "id": "X5v-iElezeBh"
      },
      "source": [
        "<p>Write code that will iterate over the range starting at 1, up to but not including 11, with a step of 2, and for each element that is between 3 and 8 inclusively print out the result of multiplying that element by the last element in the same range. For any other element of the range (outside [3-8]) print <strong>Outside!</strong></p>"
      ]
    },
    {
      "cell_type": "code",
      "execution_count": null,
      "metadata": {
        "colab": {
          "base_uri": "https://localhost:8080/"
        },
        "id": "jeYv8C4xzeBi",
        "outputId": "d3e0b462-35e7-450a-b6dc-14723ed1c525"
      },
      "outputs": [
        {
          "output_type": "stream",
          "name": "stdout",
          "text": [
            "27\n",
            "45\n",
            "63\n"
          ]
        }
      ],
      "source": [
        "for i in range(1,11,2):\n",
        "  if 3 <= i < 8:\n",
        "    print(i * range(1,11,2)[-1])\n"
      ]
    },
    {
      "cell_type": "markdown",
      "metadata": {
        "id": "_i3Ir4VNzeBi"
      },
      "source": [
        "<p>Write code that will iterate over the range starting at 5, up to but not including 25, with a step of 5, and for each element that is between 10 and 21 inclusively print out the result of multiplying that element by the second to last element of the same range. For any other element of the range (outside [10-21]) print <strong>Outside! </strong>Finally, after the entire range is exhausted print out <strong>The end!</strong></p>"
      ]
    },
    {
      "cell_type": "code",
      "execution_count": null,
      "metadata": {
        "colab": {
          "base_uri": "https://localhost:8080/"
        },
        "id": "pztAWGpCzeBi",
        "outputId": "16580926-1cd3-43e7-acd2-f55109ea5bb6"
      },
      "outputs": [
        {
          "output_type": "stream",
          "name": "stdout",
          "text": [
            "Outside!\n",
            "150\n",
            "225\n",
            "300\n",
            "The End!\n"
          ]
        }
      ],
      "source": [
        "my_range = range(5,25,5)\n",
        "\n",
        "for i in my_range:\n",
        "  if 10 <= i <21:\n",
        "    print(i * my_range[-2])\n",
        "  else:\n",
        "    print(\"Outside!\")\n",
        "print(\"The End!\")\n"
      ]
    },
    {
      "cell_type": "markdown",
      "metadata": {
        "id": "wF0o0-2GzeBj"
      },
      "source": [
        "<p>Write a <strong>while </strong>loop that prints out the value of <strong>x </strong>times 11 while <strong>x </strong>is less than or equal to 11.&nbsp; When x becomes equal to 10, print out <strong>x is 10!</strong> Be careful not to end up with an infinite loop!</p>"
      ]
    },
    {
      "cell_type": "code",
      "execution_count": null,
      "metadata": {
        "colab": {
          "base_uri": "https://localhost:8080/"
        },
        "id": "PIBkuC0LzeBj",
        "outputId": "886f0957-ebb6-4e08-aa70-517423103c65"
      },
      "outputs": [
        {
          "output_type": "stream",
          "name": "stdout",
          "text": [
            "55\n",
            "66\n",
            "77\n",
            "88\n",
            "99\n",
            "x is 10!\n",
            "121\n"
          ]
        }
      ],
      "source": [
        "x = 5\n",
        "\n",
        "while x <= 11:\n",
        "  if x == 10:\n",
        "    print(\"x is 10!\")\n",
        "    x += 1\n",
        "  else:\n",
        "    print(x * 11)\n",
        "    x += 1\n"
      ]
    },
    {
      "cell_type": "markdown",
      "metadata": {
        "id": "zDqLhvI7zeBj"
      },
      "source": [
        "<p>Insert a <strong>break </strong>statement where necessary in order to obtain the following result:</p>\n"
      ]
    },
    {
      "cell_type": "code",
      "execution_count": null,
      "metadata": {
        "id": "UYfAHi0JzeBk"
      },
      "outputs": [],
      "source": [
        "#output\n",
        "1\n",
        "1\n",
        "100\n",
        "20\n",
        "10\n"
      ]
    },
    {
      "cell_type": "code",
      "execution_count": null,
      "metadata": {
        "colab": {
          "base_uri": "https://localhost:8080/"
        },
        "id": "uZ-Z6MFIzeBk",
        "outputId": "17e36871-cc62-4275-f3fb-1cabc3ae3899"
      },
      "outputs": [
        {
          "output_type": "stream",
          "name": "stdout",
          "text": [
            "1\n",
            "1\n",
            "100\n",
            "20\n",
            "10\n"
          ]
        }
      ],
      "source": [
        "x = [1, 2]\n",
        "y = [10, 100]\n",
        "\n",
        "for i in x:\n",
        "    for j in y:\n",
        "        if i % 2 == 0:\n",
        "            print(i * j)\n",
        "            break  # i = 2 ve j = 10 iken break yaptık. ve döngüden çıkarak print(j) çalıştırdı.\n",
        "        print(i)\n",
        "    print(j)"
      ]
    },
    {
      "cell_type": "markdown",
      "metadata": {
        "id": "Ci7Wc561zeBm"
      },
      "source": [
        "<p>Insert a <strong>break </strong>statement where necessary in order to obtain the following result:</p>"
      ]
    },
    {
      "cell_type": "code",
      "execution_count": null,
      "metadata": {
        "id": "C30rj88SzeBm"
      },
      "outputs": [],
      "source": [
        "# output expected\n",
        "1\n",
        "10\n",
        "20\n",
        "2\n",
        "10"
      ]
    },
    {
      "cell_type": "code",
      "execution_count": null,
      "metadata": {
        "colab": {
          "base_uri": "https://localhost:8080/"
        },
        "id": "Y3atgeS7zeBn",
        "outputId": "6d806e2a-59b3-416d-9730-9064a9eee00f"
      },
      "outputs": [
        {
          "output_type": "stream",
          "name": "stdout",
          "text": [
            "1\n",
            "10\n",
            "20\n",
            "2\n",
            "10\n"
          ]
        }
      ],
      "source": [
        "x = [1, 2]\n",
        "y = [10, 100]\n",
        "# i = 1  j = 10 çıktı = 1 (break)\n",
        "# i = 1  j = 100 çıktı = 1 ( burayı yazmasını istemiyoruz bundan dolayı print(j) yazmadan break ile çıkması lazım.)\n",
        "for i in x:\n",
        "    for j in y:\n",
        "        if i % 2 == 0:\n",
        "            print(i * j)\n",
        "        print(i)\n",
        "        break\n",
        "    print(j)"
      ]
    },
    {
      "cell_type": "markdown",
      "metadata": {
        "id": "KBNATwr_zeBn"
      },
      "source": [
        "<p>Insert a <strong>break </strong>statement where necessary in order to obtain the following result:</p>"
      ]
    },
    {
      "cell_type": "code",
      "execution_count": null,
      "metadata": {
        "id": "yNP35IL9zeBo",
        "outputId": "62669d35-283e-4996-fbbe-0a067178b949"
      },
      "outputs": [
        {
          "data": {
            "text/plain": [
              "10"
            ]
          },
          "execution_count": 17,
          "metadata": {},
          "output_type": "execute_result"
        }
      ],
      "source": [
        "#expected output\n",
        "1\n",
        "1\n",
        "100\n",
        "10"
      ]
    },
    {
      "cell_type": "code",
      "execution_count": null,
      "metadata": {
        "id": "N0CZzf--zeBo",
        "outputId": "db842022-ef30-4bff-b325-07cf0989e9fa"
      },
      "outputs": [
        {
          "name": "stdout",
          "output_type": "stream",
          "text": [
            "1\n",
            "1\n",
            "100\n",
            "20\n",
            "2\n",
            "200\n",
            "2\n",
            "100\n"
          ]
        }
      ],
      "source": [
        "x = [1, 2]\n",
        "y = [10, 100]\n",
        "\n",
        "for i in x:\n",
        "    for j in y:\n",
        "        if i % 2 == 0:\n",
        "            print(i * j)\n",
        "        print(i)\n",
        "    print(j)"
      ]
    },
    {
      "cell_type": "code",
      "execution_count": null,
      "metadata": {
        "id": "vMqF4MfwzeBp"
      },
      "outputs": [],
      "source": []
    },
    {
      "cell_type": "markdown",
      "metadata": {
        "id": "BVMr3d1kzeBp"
      },
      "source": [
        "<p>Insert a <strong>continue </strong>statement where necessary in order to obtain the following result:</p>"
      ]
    },
    {
      "cell_type": "code",
      "execution_count": null,
      "metadata": {
        "id": "WZ0qZYWizeBq",
        "outputId": "85c14b6a-e9df-47f6-f05b-6095713dfc72"
      },
      "outputs": [
        {
          "data": {
            "text/plain": [
              "100"
            ]
          },
          "execution_count": 21,
          "metadata": {},
          "output_type": "execute_result"
        }
      ],
      "source": [
        "#expected output\n",
        "1\n",
        "1\n",
        "100\n",
        "20\n",
        "200\n",
        "100"
      ]
    },
    {
      "cell_type": "code",
      "execution_count": null,
      "metadata": {
        "colab": {
          "base_uri": "https://localhost:8080/"
        },
        "id": "ZsUuvy7OzeBq",
        "outputId": "d05a3a9c-90ba-4d8d-a150-e1dc4f1e2cf1"
      },
      "outputs": [
        {
          "output_type": "stream",
          "name": "stdout",
          "text": [
            "1\n",
            "1\n",
            "100\n",
            "20\n",
            "200\n",
            "100\n"
          ]
        }
      ],
      "source": [
        "x = [1, 2]\n",
        "y = [10, 100]\n",
        "\n",
        "# i = 1 j = 10 çıktı => 1\n",
        "# i = 1 j = 100 çıktı => 1\n",
        "# i = 2 j = 10 çıktı => 20\n",
        "# Continue\n",
        "# i = 2 j = 10 çıktı => print(i) satırına geçtiğinden ekrana 2 yazıyor.\n",
        "# i = 2 j = 10 çıktı => 200\n",
        "for i in x:\n",
        "    for j in y:\n",
        "        if i % 2 == 0:\n",
        "            print(i * j)\n",
        "            continue\n",
        "        print(i)\n",
        "    print(j)"
      ]
    },
    {
      "cell_type": "code",
      "execution_count": null,
      "metadata": {
        "id": "AQ7vnqY-zeBr"
      },
      "outputs": [],
      "source": []
    },
    {
      "cell_type": "markdown",
      "metadata": {
        "id": "CaOMEegxzeBr"
      },
      "source": [
        "<p>Insert a <strong>continue </strong>statement where necessary in order to obtain the following result:</p>"
      ]
    },
    {
      "cell_type": "code",
      "execution_count": null,
      "metadata": {
        "id": "ste2_2wvzeBr",
        "outputId": "3656542f-23b6-456d-d13a-245066826e80"
      },
      "outputs": [
        {
          "data": {
            "text/plain": [
              "100"
            ]
          },
          "execution_count": 22,
          "metadata": {},
          "output_type": "execute_result"
        }
      ],
      "source": [
        "#expected output\n",
        "1\n",
        "1\n",
        "100\n",
        "100"
      ]
    },
    {
      "cell_type": "code",
      "execution_count": null,
      "metadata": {
        "id": "eTD862YQzeBs",
        "outputId": "40e4ab19-f8b2-4d9b-be23-92b51d351e8a"
      },
      "outputs": [
        {
          "name": "stdout",
          "output_type": "stream",
          "text": [
            "1\n",
            "1\n",
            "100\n",
            "20\n",
            "2\n",
            "200\n",
            "2\n",
            "100\n"
          ]
        }
      ],
      "source": [
        "x = [1, 2]\n",
        "y = [10, 100]\n",
        "\n",
        "for i in x:\n",
        "    for j in y:\n",
        "        if i % 2 == 0:\n",
        "            print(i * j)\n",
        "        print(i)\n",
        "    print(j)"
      ]
    },
    {
      "cell_type": "markdown",
      "metadata": {
        "id": "wngiUUcYzeBs"
      },
      "source": []
    }
  ],
  "metadata": {
    "kernelspec": {
      "display_name": "Python 3.9.6 64-bit",
      "language": "python",
      "name": "python3"
    },
    "language_info": {
      "codemirror_mode": {
        "name": "ipython",
        "version": 3
      },
      "file_extension": ".py",
      "mimetype": "text/x-python",
      "name": "python",
      "nbconvert_exporter": "python",
      "pygments_lexer": "ipython3",
      "version": "3.9.6"
    },
    "orig_nbformat": 4,
    "vscode": {
      "interpreter": {
        "hash": "08e595c52ca3b9470036b1110e67b559e55f367cabc363f2e28d35631ed95060"
      }
    },
    "colab": {
      "provenance": []
    }
  },
  "nbformat": 4,
  "nbformat_minor": 0
}