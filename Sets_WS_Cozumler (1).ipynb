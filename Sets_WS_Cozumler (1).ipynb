{
  "cells": [
    {
      "cell_type": "markdown",
      "metadata": {
        "id": "G9unKpRoEXJ4"
      },
      "source": [
        "<p>Given the code below, use the correct function on line 3 in order to convert <strong>my_list</strong> to a set.</p>"
      ]
    },
    {
      "cell_type": "code",
      "execution_count": 1,
      "metadata": {
        "id": "e_TeUun3EXJ8",
        "colab": {
          "base_uri": "https://localhost:8080/"
        },
        "outputId": "f28859b7-46c7-4bc9-d23e-4b59756ad87e"
      },
      "outputs": [
        {
          "output_type": "stream",
          "name": "stdout",
          "text": [
            "<class 'set'>\n"
          ]
        }
      ],
      "source": [
        "my_list = [1, 2, 3, 4, 4, 5, 2, 9, 8, 8, 4, 3]\n",
        "\n",
        "my_set = set(my_list)\n",
        "\n",
        "print(type(my_set))"
      ]
    },
    {
      "cell_type": "markdown",
      "metadata": {
        "id": "t-3EXKS3EXJ-"
      },
      "source": [
        "<p>Given the code below, use the correct function on line 3 in order to convert <strong>my_list</strong> to a frozen set.</p>"
      ]
    },
    {
      "cell_type": "code",
      "execution_count": 2,
      "metadata": {
        "id": "ESyg_0diEXJ-",
        "colab": {
          "base_uri": "https://localhost:8080/"
        },
        "outputId": "cf665af9-e8f9-4157-a905-516aadcceaa4"
      },
      "outputs": [
        {
          "output_type": "stream",
          "name": "stdout",
          "text": [
            "<class 'frozenset'>\n"
          ]
        }
      ],
      "source": [
        "my_list = [1, 2, 3, 4, 4, 5, 2, 9, 8, 8, 4, 3]\n",
        "\n",
        "my_set = frozenset(my_list)\n",
        "\n",
        "print(type(my_set))"
      ]
    },
    {
      "cell_type": "markdown",
      "metadata": {
        "id": "FRLpMdoiEXJ_"
      },
      "source": [
        "<p>Given the code below, use the correct code on line 3 in order to verify if element <strong>10 </strong>is in <strong>my_set</strong>.</p>"
      ]
    },
    {
      "cell_type": "code",
      "execution_count": 7,
      "metadata": {
        "id": "_Fvq2W1sEXKA",
        "colab": {
          "base_uri": "https://localhost:8080/"
        },
        "outputId": "f8ac835d-5d3c-4434-b525-e8cfe385912e"
      },
      "outputs": [
        {
          "output_type": "stream",
          "name": "stdout",
          "text": [
            "False\n"
          ]
        }
      ],
      "source": [
        "my_set = {1, 4, 6, 5, 9, 0, 8, 3, 2, 7, 11}\n",
        "\n",
        "check = 10 in my_set\n",
        "\n",
        "print(check)"
      ]
    },
    {
      "cell_type": "markdown",
      "metadata": {
        "id": "t9DZVxaJEXKB"
      },
      "source": [
        "<p>Given the code below, use the correct method on line 3 in order to add the element <strong>19 </strong>to <strong>my_set</strong>.</p>"
      ]
    },
    {
      "cell_type": "code",
      "execution_count": 17,
      "metadata": {
        "id": "770OsKNeEXKC",
        "colab": {
          "base_uri": "https://localhost:8080/"
        },
        "outputId": "73fe51ba-1439-4e4f-b38c-fff49ab70822"
      },
      "outputs": [
        {
          "output_type": "stream",
          "name": "stdout",
          "text": [
            "{0, 1, 2, 3, 4, 5, 6, 7, 8, 9, 11, 19}\n"
          ]
        }
      ],
      "source": [
        "my_set = {1, 4, 6, 5, 9, 0, 8, 3, 2, 7, 11}\n",
        "\n",
        "my_set.add(19)\n",
        "\n",
        "print(my_set)\n"
      ]
    },
    {
      "cell_type": "markdown",
      "metadata": {
        "id": "G5tK7Zc3EXKC"
      },
      "source": [
        "<p>Given the code below, use the correct method on line 3 in order to delete the element <strong>9 </strong>from <strong>my_set</strong>.</p>"
      ]
    },
    {
      "cell_type": "code",
      "execution_count": 10,
      "metadata": {
        "id": "wzQwc3ZQEXKC",
        "colab": {
          "base_uri": "https://localhost:8080/"
        },
        "outputId": "1246d6ad-4fe3-4de1-aba3-e181d5332c03"
      },
      "outputs": [
        {
          "output_type": "stream",
          "name": "stdout",
          "text": [
            "{0, 1, 2, 3, 4, 5, 6, 7, 8, 11}\n"
          ]
        }
      ],
      "source": [
        "my_set = {1, 4, 6, 5, 9, 0, 8, 3, 2, 7, 11}\n",
        "\n",
        "my_set.remove(9)\n",
        "\n",
        "my_set.discard(9) # ikinci yontem\n",
        "\n",
        "print(my_set)"
      ]
    },
    {
      "cell_type": "markdown",
      "metadata": {
        "id": "8FegHo_NEXKD"
      },
      "source": [
        "<p>Given the code below, use the correct method on line 4 in order to find out the common elements of <strong>my_set1 </strong>and <strong>my_set2</strong>.</p>"
      ]
    },
    {
      "cell_type": "code",
      "execution_count": 11,
      "metadata": {
        "id": "oqYGbDcLEXKD",
        "colab": {
          "base_uri": "https://localhost:8080/"
        },
        "outputId": "0816e889-6160-46c8-e826-54617d3f1b14"
      },
      "outputs": [
        {
          "output_type": "stream",
          "name": "stdout",
          "text": [
            "[0, 2, 4, 6, 9]\n"
          ]
        }
      ],
      "source": [
        "my_set1 = {1, 4, 6, 5, 9, 0, 8, 3, 2, 7, 11}\n",
        "my_set2 = {12, 9, 4, 2, 0, 6}\n",
        "\n",
        "common = my_set1.intersection(my_set2)\n",
        "\n",
        "my_set1 & my_set2 # ikinci yontem\n",
        "\n",
        "print(sorted(list(common)))"
      ]
    },
    {
      "cell_type": "markdown",
      "metadata": {
        "id": "snR8qifrEXKE"
      },
      "source": [
        "<p>Given the code below, use the correct method on line 4 in order to join the elements of <strong>my_set1 </strong>and <strong>my_set2</strong>.</p>"
      ]
    },
    {
      "cell_type": "code",
      "execution_count": 12,
      "metadata": {
        "id": "TrWcpuE3EXKE",
        "colab": {
          "base_uri": "https://localhost:8080/"
        },
        "outputId": "f555b1a0-e4ac-43f1-bd64-3ef3acd74514"
      },
      "outputs": [
        {
          "output_type": "stream",
          "name": "stdout",
          "text": [
            "[0, 1, 2, 3, 4, 5, 6, 7, 8, 9, 11, 12]\n"
          ]
        }
      ],
      "source": [
        "my_set1 = {1, 4, 6, 5, 9, 0, 8, 3, 2, 7, 11}\n",
        "my_set2 = {12, 9, 4, 2, 0, 6}\n",
        "\n",
        "join = my_set1.union(my_set2)\n",
        "\n",
        "join = my_set1 | my_set2 # ikinci yontem\n",
        "\n",
        "print(sorted(list(join)))"
      ]
    },
    {
      "cell_type": "markdown",
      "metadata": {
        "id": "9ZyCtMHaEXKF"
      },
      "source": [
        "<p>Given the code below, use the correct method on line 4 in order to find out the elements of <strong>my_set2</strong> that are not members of <strong>my_set1</strong>.</p>"
      ]
    },
    {
      "cell_type": "code",
      "execution_count": 13,
      "metadata": {
        "id": "vuCTmzDuEXKF",
        "colab": {
          "base_uri": "https://localhost:8080/"
        },
        "outputId": "9460e0c1-1144-4f53-9c49-e32a747b0fad"
      },
      "outputs": [
        {
          "output_type": "stream",
          "name": "stdout",
          "text": [
            "[12]\n"
          ]
        }
      ],
      "source": [
        "my_set1 = {1, 4, 6, 5, 9, 0, 8, 3, 2, 7, 11}\n",
        "my_set2 = {12, 9, 4, 2, 0, 6}\n",
        "\n",
        "diff = my_set2.difference(my_set1)\n",
        "\n",
        "diff = my_set2 - my_set1 # ikinci yontem\n",
        "\n",
        "print(sorted(list(diff)))"
      ]
    },
    {
      "cell_type": "markdown",
      "metadata": {
        "id": "NWL1qIV-EXKG"
      },
      "source": []
    }
  ],
  "metadata": {
    "interpreter": {
      "hash": "468f25ad0239460415b7e6b7483d5c8f7213894121f6fb96c4cb6ef93fffe534"
    },
    "kernelspec": {
      "display_name": "Python 3.9.6 64-bit",
      "language": "python",
      "name": "python3"
    },
    "language_info": {
      "codemirror_mode": {
        "name": "ipython",
        "version": 3
      },
      "file_extension": ".py",
      "mimetype": "text/x-python",
      "name": "python",
      "nbconvert_exporter": "python",
      "pygments_lexer": "ipython3",
      "version": "3.9.6"
    },
    "orig_nbformat": 4,
    "colab": {
      "provenance": []
    }
  },
  "nbformat": 4,
  "nbformat_minor": 0
}