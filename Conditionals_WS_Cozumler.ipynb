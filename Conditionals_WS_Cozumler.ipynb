{
  "cells": [
    {
      "cell_type": "markdown",
      "metadata": {
        "id": "cOFNF-0DaqAk"
      },
      "source": [
        "<p>1. Considering the code below, write code that prints out <strong>True!</strong> if <strong>x </strong>has 50 characters or more.</p>"
      ]
    },
    {
      "cell_type": "code",
      "execution_count": 2,
      "metadata": {
        "id": "OEDVpRKPaqAn",
        "colab": {
          "base_uri": "https://localhost:8080/"
        },
        "outputId": "2c318112-4c2f-468d-eccf-8abf4dd656e1"
      },
      "outputs": [
        {
          "output_type": "stream",
          "name": "stdout",
          "text": [
            "True!\n"
          ]
        }
      ],
      "source": [
        "x = \"The days of Python 2 are almost over. Python 3 is the king now.\"\n",
        "\n",
        "if len(x) >= 50 :\n",
        "  print('True!')"
      ]
    },
    {
      "cell_type": "markdown",
      "metadata": {
        "id": "2rqQ7qjHaqAo"
      },
      "source": [
        "<p>2. Considering the code below, write code that prints out <strong>True!</strong> if <strong>x </strong>is a string and the first character in the string is <strong>T</strong>.</p>"
      ]
    },
    {
      "cell_type": "code",
      "execution_count": 5,
      "metadata": {
        "id": "_4vsDpYtaqAo",
        "colab": {
          "base_uri": "https://localhost:8080/"
        },
        "outputId": "35be8191-b2c2-4b35-adee-438b6d51c268"
      },
      "outputs": [
        {
          "output_type": "stream",
          "name": "stdout",
          "text": [
            "True !\n",
            "True !\n"
          ]
        }
      ],
      "source": [
        "x = \"The days of Python 2 are almost over. Python 3 is the king now.\"\n",
        "\n",
        "if type(x) == str and x[0] == 'T' :\n",
        "  print('True !')\n",
        "\n",
        "#ikinci yontem\n",
        "\n",
        "if isinstance(x, str) and x.startswith(\"T\") :\n",
        "  print('True !')"
      ]
    },
    {
      "cell_type": "markdown",
      "metadata": {
        "id": "Tde3wE_eaqAp"
      },
      "source": [
        "<p>3. Considering the code below, write code that prints out <strong>True!</strong> if at least one of the following conditions occurs: </p>\n",
        "<p>the string contains the character <strong>z </strong></p>\n",
        "<p>the string contains the character <strong>y </strong>at least twice</p>"
      ]
    },
    {
      "cell_type": "code",
      "execution_count": 20,
      "metadata": {
        "id": "FJ52tw6eaqAp",
        "colab": {
          "base_uri": "https://localhost:8080/"
        },
        "outputId": "d995c0d1-1fcd-47d2-a803-2389ba64fa14"
      },
      "outputs": [
        {
          "output_type": "stream",
          "name": "stdout",
          "text": [
            "True !\n"
          ]
        }
      ],
      "source": [
        "x = \"The days of Python 2 are almost over. Python 3 is the king now.\"\n",
        "\n",
        "if 'z' in x or x.count('y') >= 2 :\n",
        "  print('True !')\n",
        ""
      ]
    },
    {
      "cell_type": "markdown",
      "metadata": {
        "id": "YtvVq2dIaqAp"
      },
      "source": [
        "<p>4. Considering the code below, write code that prints out <strong>True!</strong> if the index of the first occurrence of letter <strong>f </strong>is less than 10 and prints out <strong>False!</strong> if the same condition is not satisfied.</p>"
      ]
    },
    {
      "cell_type": "code",
      "execution_count": 23,
      "metadata": {
        "id": "CRqa6X1OaqAq",
        "colab": {
          "base_uri": "https://localhost:8080/"
        },
        "outputId": "17993e66-60bf-4002-f1dc-b1fd171803cc"
      },
      "outputs": [
        {
          "output_type": "stream",
          "name": "stdout",
          "text": [
            "False !\n",
            "False !\n"
          ]
        }
      ],
      "source": [
        "x = \"The days of Python 2 are almost over. Python 3 is the king now.\"\n",
        "\n",
        "if x.find('f') < 10 :\n",
        "  print('True !')\n",
        "else:\n",
        "  print('False !')\n",
        "\n",
        "#ikinci yontem\n",
        "\n",
        "if x.index('f') < 10 :\n",
        "  print('True !')\n",
        "else :\n",
        "  print('False !')"
      ]
    },
    {
      "cell_type": "markdown",
      "metadata": {
        "id": "Ws-dlvqxaqAq"
      },
      "source": [
        "<p>5. Considering the code below, write code that prints out <strong>True!</strong> if the last 3 characters of the string are all digits and prints out <strong>False!</strong> otherwise.</p>\n",
        "<em> Use the appropriate method to check if the requested string slice contains digits only.</em>"
      ]
    },
    {
      "cell_type": "code",
      "execution_count": 25,
      "metadata": {
        "id": "Kz-zPw-maqAr",
        "colab": {
          "base_uri": "https://localhost:8080/"
        },
        "outputId": "e8eb5197-8521-4b09-f534-fa3262156ed2"
      },
      "outputs": [
        {
          "output_type": "stream",
          "name": "stdout",
          "text": [
            "False !\n"
          ]
        }
      ],
      "source": [
        "x = \"The days of Python 2 are almost over. Python 3 is the king now.\"\n",
        "\n",
        "if x[-3:].isdigit() :\n",
        "  print('True !')\n",
        "else :\n",
        "  print('False !')\n"
      ]
    },
    {
      "cell_type": "markdown",
      "metadata": {
        "id": "XTdCmULCaqAr"
      },
      "source": [
        "<p>6. Considering the code below, write code that prints out <strong>True!</strong> if <strong>x </strong>has at least 8 elements and the element positioned at index 6 is a floating-point number and prints out <strong>False!</strong> otherwise.</p>"
      ]
    },
    {
      "cell_type": "code",
      "execution_count": 28,
      "metadata": {
        "id": "cbd9djB6aqAr",
        "colab": {
          "base_uri": "https://localhost:8080/"
        },
        "outputId": "57e3a930-d4fd-4d84-abdd-9ddf94c0a759"
      },
      "outputs": [
        {
          "output_type": "stream",
          "name": "stdout",
          "text": [
            "True !\n"
          ]
        }
      ],
      "source": [
        "x = [115, 115.9, 116.01, [\"length\", \"width\", \"height\"], 109, 115, 119.5, [\"length\", \"width\", \"height\"]]\n",
        "\n",
        "if len(x) >= 8 and type(x[6]) == float :\n",
        "  print('True !')\n",
        "else :\n",
        "  print('False !')\n"
      ]
    },
    {
      "cell_type": "markdown",
      "metadata": {
        "id": "R6dPDpgsaqAs"
      },
      "source": [
        "<p>7. Considering the code below, write code that prints out <strong>True!</strong> if the second string of the first list in <strong>x </strong>ends with the letter <strong>h </strong>and the first string of the second list in <strong>x </strong>also ends with the letter <strong>h</strong>, and prints out <strong>False!</strong> otherwise.</p>"
      ]
    },
    {
      "cell_type": "code",
      "execution_count": 32,
      "metadata": {
        "id": "VcA0kNmqaqAs",
        "colab": {
          "base_uri": "https://localhost:8080/"
        },
        "outputId": "7725289c-8b31-4866-b980-d65689d4d750"
      },
      "outputs": [
        {
          "output_type": "stream",
          "name": "stdout",
          "text": [
            "True !\n",
            "True !\n"
          ]
        }
      ],
      "source": [
        "x = [115, 115.9, 116.01, [\"length\", \"width\", \"height\"], 109, 115, 119.5, [\"length\", \"width\", \"height\"]]\n",
        "\n",
        "if x[3][1].endswith('h') and x[-1][0].endswith('h') :\n",
        "  print('True !')\n",
        "else :\n",
        "  print('False !')\n",
        "\n",
        "# ikinci yontem\n",
        "\n",
        "if x[3][1][-1] == 'h' and x[-1][0][-1] == 'h':\n",
        "  print(\"True !\")\n",
        "else:\n",
        "  print(\"False !\")"
      ]
    },
    {
      "cell_type": "markdown",
      "metadata": {
        "id": "2YSpk6kSaqAs"
      },
      "source": [
        "<p>8. Considering the code below, write code that prints out <strong>True!</strong> if one of the following two conditions are satisfied and prints out <strong>False!</strong> otherwise.</p>\n",
        "<p>the third string of the first list in <strong>x </strong>ends with the letter <strong>h </strong></p>\n",
        "<p>the second string of the second list in <strong>x </strong>also ends with the letter <strong>h</strong></p>"
      ]
    },
    {
      "cell_type": "code",
      "execution_count": 36,
      "metadata": {
        "id": "ZKT9_LMjaqAt",
        "colab": {
          "base_uri": "https://localhost:8080/"
        },
        "outputId": "1e334c5f-6844-49d1-ef83-fc2d0572f0e4"
      },
      "outputs": [
        {
          "output_type": "stream",
          "name": "stdout",
          "text": [
            "True !\n",
            "True !\n"
          ]
        }
      ],
      "source": [
        "x = [115, 115.9, 116.01, [\"length\", \"width\", \"height\"], 109, 115, 119.5, [\"length\", \"width\", \"height\"]]\n",
        "\n",
        "if x[3][2].endswith('h') or x[-1][1].endswith('h') :\n",
        "  print('True !')\n",
        "else :\n",
        "  print('False !')\n",
        "\n",
        "# ikinci yontem\n",
        "\n",
        "if x[3][2][-1] == 'h' or x[-1][1][-1] == 'h':\n",
        "  print(\"True !\")\n",
        "else:\n",
        "  print(\"False !\")"
      ]
    },
    {
      "cell_type": "code",
      "source": [],
      "metadata": {
        "id": "RC521He5VMzc"
      },
      "execution_count": null,
      "outputs": []
    }
  ],
  "metadata": {
    "kernelspec": {
      "display_name": "Python 3.9.6 64-bit",
      "language": "python",
      "name": "python3"
    },
    "language_info": {
      "codemirror_mode": {
        "name": "ipython",
        "version": 3
      },
      "file_extension": ".py",
      "mimetype": "text/x-python",
      "name": "python",
      "nbconvert_exporter": "python",
      "pygments_lexer": "ipython3",
      "version": "3.9.6"
    },
    "orig_nbformat": 4,
    "vscode": {
      "interpreter": {
        "hash": "08e595c52ca3b9470036b1110e67b559e55f367cabc363f2e28d35631ed95060"
      }
    },
    "colab": {
      "provenance": []
    }
  },
  "nbformat": 4,
  "nbformat_minor": 0
}