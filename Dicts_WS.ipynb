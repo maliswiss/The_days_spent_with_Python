{
  "cells": [
    {
      "cell_type": "markdown",
      "metadata": {
        "id": "oQ_cWqXDw_J9"
      },
      "source": [
        "<p>Given the code below, use the correct code on line 3 in order to return the value associated with key <strong>4</strong>. Do not use a method as a solution for this exercise!</p>"
      ]
    },
    {
      "cell_type": "code",
      "execution_count": null,
      "metadata": {
        "id": "yyR9-iZ_w_J_"
      },
      "outputs": [],
      "source": [
        "crypto = {1: \"Bitcoin\", 2: \"Ethereum\", 3: \"Litecoin\", 4: \"Stellar\", 5: \"XRP\"}\n",
        "\n",
        "value =\n",
        "\n",
        "print(value) # Stellar"
      ]
    },
    {
      "cell_type": "markdown",
      "metadata": {
        "id": "Mn150Irsw_KA"
      },
      "source": [
        "<p>Given the code below, use the correct code on line 3 in order to return the value associated with key <strong>4</strong>. This time, use a method as a solution for this exercise!</p>"
      ]
    },
    {
      "cell_type": "code",
      "execution_count": null,
      "metadata": {
        "id": "6DoHvFsIw_KA"
      },
      "outputs": [],
      "source": [
        "crypto = {1: \"Bitcoin\", 2: \"Ethereum\", 3: \"Litecoin\", 4: \"Stellar\", 5: \"XRP\"}\n",
        "\n",
        "value =\n",
        "\n",
        "print(value) # Stellar"
      ]
    },
    {
      "cell_type": "markdown",
      "metadata": {
        "id": "xAs5mLkuw_KB"
      },
      "source": [
        "<p>Given the code below, use the correct code on line 3 in order to update the value associated with key <strong>4</strong> to <strong>\"Cardano\"</strong>.</p>"
      ]
    },
    {
      "cell_type": "code",
      "execution_count": null,
      "metadata": {
        "id": "FZpD009Nw_KB"
      },
      "outputs": [],
      "source": [
        "crypto = {1: \"Bitcoin\", 2: \"Ethereum\", 3: \"Litecoin\", 4: \"Stellar\", 5: \"XRP\"}\n",
        "\n",
        "\n",
        "\n",
        "print(crypto[4]) # Cardano"
      ]
    },
    {
      "cell_type": "markdown",
      "metadata": {
        "id": "gSUvTy6-w_KC"
      },
      "source": [
        "<p>Given the code below, use the correct code on line 3 in order to add a new key-value pair to the dictionary: <strong>6: \"Monero\"</strong></p>"
      ]
    },
    {
      "cell_type": "code",
      "execution_count": null,
      "metadata": {
        "id": "VOLl8u_Ow_KC"
      },
      "outputs": [],
      "source": [
        "crypto = {1: \"Bitcoin\", 2: \"Ethereum\", 3: \"Litecoin\", 4: \"Stellar\", 5: \"XRP\"}\n",
        "\n",
        "\n",
        "\n",
        "print(crypto[6]) # Monero"
      ]
    },
    {
      "cell_type": "markdown",
      "metadata": {
        "id": "SaJm6zTrw_KC"
      },
      "source": [
        "<p>Given the code below, use the correct code on line 3 in order to return the number of key-value pairs in the dictionary.</p>"
      ]
    },
    {
      "cell_type": "code",
      "execution_count": null,
      "metadata": {
        "id": "nl6wsOcvw_KD"
      },
      "outputs": [],
      "source": [
        "crypto = {1: \"Bitcoin\", 2: \"Ethereum\", 3: \"Litecoin\", 4: \"Stellar\", 5: \"XRP\"}\n",
        "\n",
        "number =\n",
        "\n",
        "print(number)"
      ]
    },
    {
      "cell_type": "markdown",
      "metadata": {
        "id": "95KPvrvww_KD"
      },
      "source": [
        "<p>Given the code below, use the correct code on line 3 in order to delete the key-value pair associated with key <strong>3</strong>. Do not use a method as a solution for this exercise!</p>"
      ]
    },
    {
      "cell_type": "code",
      "execution_count": null,
      "metadata": {
        "id": "8sUqCyPIw_KD"
      },
      "outputs": [],
      "source": [
        "crypto = {1: \"Bitcoin\", 2: \"Ethereum\", 3: \"Litecoin\", 4: \"Stellar\", 5: \"XRP\"}\n",
        "\n",
        "\n",
        "\n",
        "print(crypto)"
      ]
    },
    {
      "cell_type": "markdown",
      "metadata": {
        "id": "KW14Z5wCw_KE"
      },
      "source": [
        "<p>Given the code below, use the correct code on line 3 in order to delete the key-value pair associated with key <strong>3</strong>. This time, use a method as a solution for this exercise!</p>"
      ]
    },
    {
      "cell_type": "code",
      "execution_count": null,
      "metadata": {
        "id": "idlf2nkZw_KE"
      },
      "outputs": [],
      "source": [
        "crypto = {1: \"Bitcoin\", 2: \"Ethereum\", 3: \"Litecoin\", 4: \"Stellar\", 5: \"XRP\"}\n",
        "\n",
        "\n",
        "\n",
        "print(crypto)"
      ]
    },
    {
      "cell_type": "markdown",
      "metadata": {
        "id": "6r0EhusIw_KE"
      },
      "source": [
        "<p>Given the code below, use the correct code on line 3 in order to verify that <strong>7 </strong>is <strong>not </strong>a key in the dictionary.</p>"
      ]
    },
    {
      "cell_type": "code",
      "execution_count": null,
      "metadata": {
        "id": "ZsFNdjOIw_KE"
      },
      "outputs": [],
      "source": [
        "crypto = {1: \"Bitcoin\", 2: \"Ethereum\", 3: \"Litecoin\", 4: \"Stellar\", 5: \"XRP\"}\n",
        "\n",
        "check =\n",
        "\n",
        "print(check)"
      ]
    },
    {
      "cell_type": "markdown",
      "metadata": {
        "id": "aG4x3evTw_KF"
      },
      "source": [
        "<p>Given the code below, use the correct method on line 3 in order to delete all the elements in the dictionary.</p>"
      ]
    },
    {
      "cell_type": "code",
      "execution_count": null,
      "metadata": {
        "id": "FDUC223uw_KF"
      },
      "outputs": [],
      "source": [
        "crypto = {1: \"Bitcoin\", 2: \"Ethereum\", 3: \"Litecoin\", 4: \"Stellar\", 5: \"XRP\"}\n",
        "\n",
        "crypto.\n",
        "\n",
        "print(crypto)"
      ]
    },
    {
      "cell_type": "markdown",
      "metadata": {
        "id": "C9X4kO0iw_KF"
      },
      "source": [
        "<p>Given the code below, use the correct code on line 3 in order to get a list of tuples, where each tuple represents a key-value pair in the dictionary.</p>"
      ]
    },
    {
      "cell_type": "code",
      "execution_count": null,
      "metadata": {
        "id": "TNd8YLtyw_KF"
      },
      "outputs": [],
      "source": [
        "crypto = {1: \"Bitcoin\", 2: \"Ethereum\", 3: \"Litecoin\", 4: \"Stellar\", 5: \"XRP\"}\n",
        "\n",
        "result =\n",
        "\n",
        "print(list(result))"
      ]
    },
    {
      "cell_type": "markdown",
      "metadata": {
        "id": "Qd6hwwq1w_KG"
      },
      "source": [
        "<p>Given the code below, use the correct function on line 3 in order to get the sum of all the keys in the dictionary.</p>"
      ]
    },
    {
      "cell_type": "code",
      "execution_count": null,
      "metadata": {
        "id": "-qpgFbklw_KG"
      },
      "outputs": [],
      "source": [
        "crypto = {1: \"Bitcoin\", 2: \"Ethereum\", 3: \"Litecoin\", 4: \"Stellar\", 5: \"XRP\"}\n",
        "\n",
        "add =\n",
        "\n",
        "print(add)"
      ]
    },
    {
      "cell_type": "markdown",
      "metadata": {
        "id": "NoK9FvXEw_KG"
      },
      "source": [
        "<p>Given the code below, use the correct method on line 3 in order to get a list of all the values in the dictionary.</p>"
      ]
    },
    {
      "cell_type": "code",
      "execution_count": null,
      "metadata": {
        "id": "dr0WKrSQw_KG"
      },
      "outputs": [],
      "source": [
        "crypto = {1: \"Bitcoin\", 2: \"Ethereum\", 3: \"Litecoin\", 4: \"Stellar\", 5: \"XRP\"}\n",
        "\n",
        "val =\n",
        "\n",
        "print(list(val))"
      ]
    },
    {
      "cell_type": "markdown",
      "metadata": {
        "id": "_l81JH7-w_KG"
      },
      "source": [
        "<p>Given the code below, use the correct function on line 3 in order to get the smallest key in the dictionary.</p>"
      ]
    },
    {
      "cell_type": "code",
      "execution_count": null,
      "metadata": {
        "id": "2sdi0gKPw_KH"
      },
      "outputs": [],
      "source": [
        "crypto = {1: \"Bitcoin\", 2: \"Ethereum\", 3: \"Litecoin\", 4: \"Stellar\", 5: \"XRP\"}\n",
        "\n",
        "key =\n",
        "\n",
        "print(key)"
      ]
    },
    {
      "cell_type": "markdown",
      "metadata": {
        "id": "D80Xb3Rbw_KH"
      },
      "source": [
        "<p>Given the code below, use the correct method on line 3 in order to get a list of all the keys in the dictionary.</p>"
      ]
    },
    {
      "cell_type": "code",
      "execution_count": null,
      "metadata": {
        "id": "6ApOh9Rsw_KH"
      },
      "outputs": [],
      "source": [
        "crypto = {1: \"Bitcoin\", 2: \"Ethereum\", 3: \"Litecoin\", 4: \"Stellar\", 5: \"XRP\"}\n",
        "\n",
        "keys =\n",
        "\n",
        "print(list(keys))"
      ]
    },
    {
      "cell_type": "markdown",
      "metadata": {
        "id": "WpuGn81Bw_KH"
      },
      "source": [
        "<p>Given the code below, use the correct method on line 3 in order to return and remove an arbitrary key-value pair from the dictionary.</p>"
      ]
    },
    {
      "cell_type": "code",
      "execution_count": null,
      "metadata": {
        "id": "QzbzQpfkw_KH"
      },
      "outputs": [],
      "source": [
        "crypto = {1: \"Bitcoin\", 2: \"Ethereum\", 3: \"Litecoin\", 4: \"Stellar\", 5: \"XRP\"}\n",
        "\n",
        "\n",
        "\n",
        "print(len(crypto))"
      ]
    },
    {
      "cell_type": "markdown",
      "metadata": {
        "id": "mwxQsynHw_KI"
      },
      "source": []
    }
  ],
  "metadata": {
    "interpreter": {
      "hash": "468f25ad0239460415b7e6b7483d5c8f7213894121f6fb96c4cb6ef93fffe534"
    },
    "kernelspec": {
      "display_name": "Python 3.9.6 64-bit",
      "language": "python",
      "name": "python3"
    },
    "language_info": {
      "codemirror_mode": {
        "name": "ipython",
        "version": 3
      },
      "file_extension": ".py",
      "mimetype": "text/x-python",
      "name": "python",
      "nbconvert_exporter": "python",
      "pygments_lexer": "ipython3",
      "version": "3.9.6"
    },
    "orig_nbformat": 4,
    "colab": {
      "provenance": []
    }
  },
  "nbformat": 4,
  "nbformat_minor": 0
}